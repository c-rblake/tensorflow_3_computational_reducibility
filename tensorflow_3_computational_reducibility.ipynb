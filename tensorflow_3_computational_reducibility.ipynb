{
 "cells": [
  {
   "cell_type": "markdown",
   "metadata": {},
   "source": [
    "# Can our data be modelled? \n",
    "This project takes a look at a crude measure of mine(nameless currently) for determining if the data can be modeled via computation."
   ]
  },
  {
   "cell_type": "code",
   "execution_count": 43,
   "metadata": {},
   "outputs": [],
   "source": [
    "import tensorflow as tf\n",
    "from tensorflow.keras.models import Sequential\n",
    "from tensorflow.keras import layers\n",
    "from tensorflow.keras.callbacks import EarlyStopping\n",
    "import matplotlib.pyplot as plt\n",
    "import pandas as pd\n",
    "from sklearn.model_selection import train_test_split\n",
    "from sklearn.preprocessing import StandardScaler\n",
    "from sklearn.compose import ColumnTransformer\n",
    "from sklearn.preprocessing import Normalizer\n",
    "import numpy as np\n",
    "import warnings\n",
    "warnings.filterwarnings('ignore')\n",
    "np.random.seed(42)"
   ]
  },
  {
   "cell_type": "code",
   "execution_count": 44,
   "metadata": {},
   "outputs": [],
   "source": [
    "#Read and preprocess data\n",
    "dataset = pd.read_csv(\"insurance.csv\") #read the dataset\n",
    "features = dataset.iloc[:,0:6]\n",
    "labels = dataset.iloc[:,-1] \n",
    "features = pd.get_dummies(features)\n",
    "features_train, features_test, labels_train, labels_test = train_test_split(features, labels, test_size=0.33, random_state=42)\n",
    "#Standardize\n",
    "ct = ColumnTransformer([('standardize', StandardScaler(), ['age', 'bmi', 'children'])], remainder='passthrough')\n",
    "features_train = ct.fit_transform(features_train)\n",
    "features_test = ct.transform(features_test)"
   ]
  },
  {
   "cell_type": "code",
   "execution_count": 45,
   "metadata": {},
   "outputs": [],
   "source": [
    "def more_complex_model(X, nodes, learning_rate):\n",
    "    model = Sequential(name=\"model\")\n",
    "    input = tf.keras.Input(shape=(X.shape[1],))\n",
    "    model.add(input)\n",
    "    model.add(layers.Dense(nodes, activation='relu'))\n",
    "    model.add(layers.Dense(1))\n",
    "    opt = tf.keras.optimizers.Adam(learning_rate = learning_rate)\n",
    "    model.compile(loss='mse', metrics=['mae'], optimizer=opt)\n",
    "    return model"
   ]
  },
  {
   "cell_type": "code",
   "execution_count": 46,
   "metadata": {},
   "outputs": [],
   "source": [
    "def fit_model(model, f_train, l_train, learning_rate, num_epochs):\n",
    "    #train the model on the training data\n",
    "    es = EarlyStopping(monitor='val_loss', mode='min', verbose=1, patience = 20)\n",
    "    history = model.fit(features_train, labels_train, epochs=num_epochs, batch_size= 2, verbose=0, validation_split = 0.2, callbacks = [es])\n",
    "    return history"
   ]
  },
  {
   "cell_type": "code",
   "execution_count": 47,
   "metadata": {},
   "outputs": [],
   "source": [
    "def plot(history):\n",
    "    # plot learning curves\n",
    "    fig, axs = plt.subplots(1, 2, gridspec_kw={'hspace': 1, 'wspace': 1}) \n",
    "    (ax1, ax2) = axs\n",
    "    ax1.plot(history.history['loss'], label='train')\n",
    "    ax1.plot(history.history['val_loss'], label='validation')\n",
    "    ax1.set_title('lrate=' + str(learning_rate))\n",
    "    ax1.legend(loc=\"upper right\")\n",
    "    ax1.set_xlabel(\"# of epochs\")\n",
    "    ax1.set_ylabel(\"loss (mse)\")\n",
    "\n",
    "    ax2.plot(history.history['mean_absolute_error'], label='train')\n",
    "    ax2.plot(history.history['val_mean_absolute_error'], label='validation')\n",
    "    ax2.set_title('lrate=' + str(learning_rate))\n",
    "    ax2.legend(loc=\"upper right\")\n",
    "    ax2.set_xlabel(\"# of epochs\")\n",
    "    ax2.set_ylabel(\"MAE\")\n",
    "    print(\"Final training MAE:\", history.history['mean_absolute_error'][-1])\n",
    "    print(\"Final validation MAE:\", history.history['val_mean_absolute_error'][-1])"
   ]
  },
  {
   "cell_type": "code",
   "execution_count": 48,
   "metadata": {},
   "outputs": [],
   "source": [
    "learning_rate = 0.1\n",
    "num_epochs = 200\n",
    "nodes = [8,64]\n",
    "model_histories = []"
   ]
  },
  {
   "cell_type": "code",
   "execution_count": 49,
   "metadata": {},
   "outputs": [
    {
     "name": "stdout",
     "output_type": "stream",
     "text": [
      "Results of a model with 8 nodes in hidden layer:\n",
      "Epoch 00051: early stopping\n",
      "Results of a model with 64 nodes in hidden layer:\n",
      "Epoch 00046: early stopping\n"
     ]
    }
   ],
   "source": [
    "#fit the models\n",
    "for i in range(len(nodes)):\n",
    "  print(f\"Results of a model with {nodes[i]} nodes in hidden layer:\")\n",
    "  model_histories.append(fit_model(more_complex_model(features_train, nodes[i], learning_rate), features_train, labels_train, learning_rate, num_epochs))"
   ]
  },
  {
   "cell_type": "code",
   "execution_count": 50,
   "metadata": {},
   "outputs": [
    {
     "name": "stdout",
     "output_type": "stream",
     "text": [
      "Final training MAE: 2867.7803\n",
      "Final validation MAE: 2873.6836\n"
     ]
    },
    {
     "data": {
      "image/png": "[encoded data removed]",
      "text/plain": [
       "<Figure size 432x288 with 2 Axes>"
      ]
     },
     "metadata": {
      "needs_background": "light"
     },
     "output_type": "display_data"
    }
   ],
   "source": [
    "plot(model_histories[0])\n",
    "#plt.savefig('plot2.png')"
   ]
  },
  {
   "cell_type": "markdown",
   "metadata": {},
   "source": [
    "# What does the Early stopping Mean here? - Computationally Reducible¶\n",
    "So the less computationally heavy model of 8 nodes takes a longer time to reach a certain number of epochs where no more improvements are made. So what does this mean? Well, it means that we have a problem that at first glance looks as if it does have computationally reducibility. That is there are ways of applying computation to this problem and get an answer. \n",
    "That is great in general. We may not get a good answer but we are not wasting our time on something that cannot give any answers!\n",
    "\n",
    "This is another of my metrics, currently a bit crude. It is the delta of epochs between the two complex models that matter, small distance points to data that cannot be reduced substantially by computation. The distances as a measure ought to be important somehow but it eludes me how. That is a model that has x more complexity needs z fewer computations. The exact relationship needs work. If I have completely random data, both the models would soon give up. That is, they would both finish quite quickly and at about the same number of epochs declaring nothing can be done. I'll do a small project and publish that as well in time."
   ]
  },
  {
   "cell_type": "code",
   "execution_count": 51,
   "metadata": {},
   "outputs": [],
   "source": [
    "#print(history2.history.keys())"
   ]
  }
 ],
 "metadata": {
  "kernelspec": {
   "display_name": "Python 3",
   "language": "python",
   "name": "python3"
  },
  "language_info": {
   "codemirror_mode": {
    "name": "ipython",
    "version": 3
   },
   "file_extension": ".py",
   "mimetype": "text/x-python",
   "name": "python",
   "nbconvert_exporter": "python",
   "pygments_lexer": "ipython3",
   "version": "3.6.12"
  }
 },
 "nbformat": 4,
 "nbformat_minor": 4
}
